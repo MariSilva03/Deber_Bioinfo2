{
 "cells": [
  {
   "cell_type": "markdown",
   "id": "ef6c156f",
   "metadata": {},
   "source": [
    "<img src=\"https://www.ikiam.edu.ec/img/logo-ikiam-grey.png\" width=300 height=240 />\n",
    "\n",
    "## Deber de Bioinformática \n",
    "\n",
    "## GO2\n",
    "\n",
    "### Mariana Silva \n",
    "\n",
    "### Basado en las sesiones de Visualización de datos y Expresiones resulares. Realice una adaptación de la solución del MAP OF SCIENCE. Se requiere dos adaptaciones para resolver esta actividad:\n",
    "\n",
    "### Archivo a usar: Péptidos Antimicrobianos "
   ]
  },
  {
   "cell_type": "code",
   "execution_count": 21,
   "id": "7106363b",
   "metadata": {},
   "outputs": [],
   "source": [
    "import re\n",
    "import csv"
   ]
  },
  {
   "cell_type": "code",
   "execution_count": 22,
   "id": "54c181e1",
   "metadata": {},
   "outputs": [],
   "source": [
    "with open('./pubmed-antimicrob-set.txt',\"r\", encoding='utf-8-sig') as f:\n",
    "    my_text = f.read()\n",
    "    my_text = re.sub(r'\\n\\s{6}', ' ', my_text)\n",
    "   "
   ]
  },
  {
   "cell_type": "code",
   "execution_count": 23,
   "id": "ffb1a011",
   "metadata": {},
   "outputs": [],
   "source": [
    " text1 = re.findall(r\"\\,\\s[A-Z]+[A-z]{2,11}\\.\", my_text) # Extraemos los países\n",
    "    "
   ]
  },
  {
   "cell_type": "code",
   "execution_count": 26,
   "id": "68bb7bc6",
   "metadata": {},
   "outputs": [
    {
     "name": "stdout",
     "output_type": "stream",
     "text": [
      "[', Australia.', ', Canada.', ', China.', ', India.', ', Iran.', ', USA.']\n"
     ]
    }
   ],
   "source": [
    "    unique_text = list(set(text1))\n",
    "    unique_text.sort()\n",
    "    a = unique_text\n",
    "    print(a) # Vemos los países que se repiten y si hay elementos intrusos que no son países"
   ]
  },
  {
   "cell_type": "code",
   "execution_count": 27,
   "id": "609f7c5e",
   "metadata": {},
   "outputs": [],
   "source": [
    "b = unique_text"
   ]
  },
  {
   "cell_type": "code",
   "execution_count": 28,
   "id": "47f297ab",
   "metadata": {},
   "outputs": [
    {
     "name": "stdout",
     "output_type": "stream",
     "text": [
      "Paises enlistados:  [', Australia.', ', Canada.', ', China.', ', India.', ', Iran.', ', USA.']\n"
     ]
    }
   ],
   "source": [
    "print('Paises enlistados: ', b)"
   ]
  },
  {
   "cell_type": "code",
   "execution_count": 31,
   "id": "9dd91c47",
   "metadata": {},
   "outputs": [
    {
     "name": "stdout",
     "output_type": "stream",
     "text": [
      "\n",
      "La lista definitiva es:  ['Australia', 'Canada', 'China', 'India', 'Iran', 'USA', '']\n"
     ]
    }
   ],
   "source": [
    "\n",
    "    c = \"\".join(b)\n",
    "    d = c.split(\", \")\n",
    "    e = \"\".join(d)\n",
    "    f = e.split(\".\")\n",
    "    g = f\n",
    "    print()\n",
    "    print('La lista definitiva es: ', g)"
   ]
  },
  {
   "cell_type": "code",
   "execution_count": null,
   "id": "970d0ab4",
   "metadata": {},
   "outputs": [],
   "source": []
  }
 ],
 "metadata": {
  "kernelspec": {
   "display_name": "Python 3",
   "language": "python",
   "name": "python3"
  },
  "language_info": {
   "codemirror_mode": {
    "name": "ipython",
    "version": 3
   },
   "file_extension": ".py",
   "mimetype": "text/x-python",
   "name": "python",
   "nbconvert_exporter": "python",
   "pygments_lexer": "ipython3",
   "version": "3.8.8"
  }
 },
 "nbformat": 4,
 "nbformat_minor": 5
}
